{
 "cells": [
  {
   "cell_type": "code",
   "execution_count": 26,
   "metadata": {},
   "outputs": [],
   "source": [
    "import re\n",
    "import string\n",
    "import numpy as np"
   ]
  },
  {
   "cell_type": "code",
   "execution_count": 33,
   "metadata": {},
   "outputs": [
    {
     "name": "stdout",
     "output_type": "stream",
     "text": [
      "matrix size is 265225\n",
      "center at 257\n",
      "our input is in column 438\n",
      "rows_moved: 258\tcol_moved: 181\n",
      "================\n",
      "MANHATTAN: 438\n",
      "================\n"
     ]
    }
   ],
   "source": [
    "################### FIRST PART #############################\n",
    "\n",
    "# Matrix is a 515x515 one as\n",
    "input = 265149\n",
    "row_col_size = 515\n",
    "matrix_size = row_col_size**2\n",
    "print \"matrix size is {}\".format(matrix_size)\n",
    "\n",
    "# This means that the center is at \n",
    "center = row_col_size/2\n",
    "print \"center at {}\".format(center)\n",
    "\n",
    "# The matrix would look like\n",
    "# ... ... ...\n",
    "# ... ... ...\n",
    "# ... 265224 265225\n",
    "\n",
    "# Let's get the column in which our input is\n",
    "col = row_col_size - (matrix_size - input) - 1 # indexes start at zero ;)\n",
    "print \"our input is in column {}\".format(row)\n",
    "\n",
    "# So, we need to compute Euclidean from position (row = 515, column = 438) to the center (row = 257, col = 257)\n",
    "rows_moved = row_col_size - center\n",
    "cols_moved = col - center\n",
    "\n",
    "# Let's just print the Manhattan distance to the center of the Matrix\n",
    "print \"rows_moved: {}\\tcol_moved: {}\\n================\\nMANHATTAN: {}\\n================\".format(\n",
    "    rows_moved, cols_moved, rows_moved+cols_moved-1)"
   ]
  }
 ],
 "metadata": {
  "kernelspec": {
   "display_name": "Python 2",
   "language": "python",
   "name": "python2"
  },
  "language_info": {
   "codemirror_mode": {
    "name": "ipython",
    "version": 2
   },
   "file_extension": ".py",
   "mimetype": "text/x-python",
   "name": "python",
   "nbconvert_exporter": "python",
   "pygments_lexer": "ipython2",
   "version": "2.7.14"
  }
 },
 "nbformat": 4,
 "nbformat_minor": 2
}
