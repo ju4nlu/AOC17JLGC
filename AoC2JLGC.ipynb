{
 "cells": [
  {
   "cell_type": "code",
   "execution_count": 40,
   "metadata": {},
   "outputs": [],
   "source": [
    "import re\n",
    "import string"
   ]
  },
  {
   "cell_type": "code",
   "execution_count": 42,
   "metadata": {},
   "outputs": [
    {
     "name": "stdout",
     "output_type": "stream",
     "text": [
      "First part checksum is ---> 44887\n",
      "Second part checksum is ---> 242\n"
     ]
    }
   ],
   "source": [
    "# Getting that file openned\n",
    "with open(\"input.txt\", 'r') as f:\n",
    "    input_captcha = f.readlines()\n",
    "f.closed\n",
    "\n",
    "################### FIRST PART ###################\n",
    "\n",
    "# Remove tabs and \\n\n",
    "cleaned = [re.sub(r'(\\t)|(\\n)', \" \", captcha, count=0, flags=0) for captcha in input_captcha]\n",
    "\n",
    "# Checksum counter\n",
    "counter = 0\n",
    "\n",
    "# Let' count!\n",
    "for i in cleaned:\n",
    "    # Split elements of the list by space\n",
    "    spl = i[:-1].split(' ')\n",
    "    \n",
    "    # Compute the max and the min element for each row\n",
    "    minn = min(int(s) for s in spl)\n",
    "    maxx = max(int(s) for s in spl)\n",
    "    \n",
    "    # Add to the counter the difference of those\n",
    "    counter =  counter + (maxx - minn)\n",
    "    \n",
    "print (\"First part checksum is ---> {}\".format(counter))\n",
    "\n",
    "\n",
    "\n",
    "\n",
    "################### SECOND PART ###################\n",
    "counter = 0\n",
    "\n",
    "# For each line\n",
    "for i in cleaned:\n",
    "    \n",
    "    # Split each of the values of the line\n",
    "    spl = i[:-1].split(' ')\n",
    "    \n",
    "    # For each value of the line\n",
    "    for s in range(len(spl)):\n",
    "        \n",
    "        # Compare it to all the other elements of the row\n",
    "        for j in range(len(spl)):\n",
    "            \n",
    "            # Check if the condition is fulfilled\n",
    "            if (int(spl[s]) != int(spl[j])) & (int(spl[s]) % int(spl[j]) == 0):\n",
    "                \n",
    "                # Increment the counter and exit of this iteration, onto the next line\n",
    "                counter += int(spl[s]) / int(spl[j])\n",
    "                break\n",
    "                \n",
    "print (\"Second part checksum is ---> {}\".format(counter))\n"
   ]
  }
 ],
 "metadata": {
  "kernelspec": {
   "display_name": "Python 2",
   "language": "python",
   "name": "python2"
  },
  "language_info": {
   "codemirror_mode": {
    "name": "ipython",
    "version": 2
   },
   "file_extension": ".py",
   "mimetype": "text/x-python",
   "name": "python",
   "nbconvert_exporter": "python",
   "pygments_lexer": "ipython2",
   "version": "2.7.14"
  }
 },
 "nbformat": 4,
 "nbformat_minor": 2
}
