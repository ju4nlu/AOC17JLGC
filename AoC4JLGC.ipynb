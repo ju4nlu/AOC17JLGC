{
 "cells": [
  {
   "cell_type": "code",
   "execution_count": 3,
   "metadata": {},
   "outputs": [],
   "source": [
    "import re\n",
    "import string"
   ]
  },
  {
   "cell_type": "code",
   "execution_count": 53,
   "metadata": {},
   "outputs": [
    {
     "name": "stdout",
     "output_type": "stream",
     "text": [
      "total passphrases that are valid --> 337\n"
     ]
    }
   ],
   "source": [
    "# Getting that file openned\n",
    "with open(\"input.txt\", 'r') as f:\n",
    "    input_captcha = f.readlines()\n",
    "f.closed\n",
    "\n",
    "# Clean the file and obtain the list which contains each line splitted into a list of words\n",
    "cleaned = [re.sub(r'(\\t)|(\\n)', \" \", captcha, count=0, flags=0) for captcha in input_captcha]\n",
    "lst_cleaned = [i[:-1].split(' ') for i in cleaned] # improved from previous scripts\n",
    "\n",
    "\n",
    "###################### FIRST PART ######################\n",
    "\n",
    "counter = 0\n",
    "\n",
    "for line in lst_cleaned:\n",
    "    \n",
    "    # We assume that the line is correct at the beggining\n",
    "    counter += 1\n",
    "    stop = False\n",
    "    \n",
    "    # For each word in the line\n",
    "    for index, word in enumerate(line):\n",
    "        \n",
    "        # If we haven't found a coincidence yet\n",
    "        if not stop:\n",
    "            \n",
    "            # Look at the rest of words of the line\n",
    "            for sec_word in range(index+1, len(line)):\n",
    "                \n",
    "                # Look for a word which is equal\n",
    "                if word == line[sec_word]:\n",
    "                    \n",
    "                    # Set the passphrase as incorrect and stop the iterations, so we can \n",
    "                    # compute the next line and do not waste time here\n",
    "                    counter -= 1\n",
    "                    stop = True\n",
    "                    break\n",
    "        else:\n",
    "            break\n",
    "        \n",
    "print \"total passphrases that are valid --> {}\".format(counter)"
   ]
  },
  {
   "cell_type": "code",
   "execution_count": 54,
   "metadata": {},
   "outputs": [
    {
     "name": "stdout",
     "output_type": "stream",
     "text": [
      "total passphrases that are valid --> 231\n"
     ]
    }
   ],
   "source": [
    "###################### SECOND PART ######################\n",
    "counter = 0\n",
    "\n",
    "# Same as before at the beggining\n",
    "for line in lst_cleaned:\n",
    "    counter += 1\n",
    "    stop = False\n",
    "    for index, word in enumerate(line):\n",
    "        \n",
    "        # If we haven't found any coincidence, keep searching\n",
    "        if not stop:\n",
    "            \n",
    "            # Get the word, split it by letters and sort them alphabetically\n",
    "            og_word = sorted(list(word))\n",
    "            \n",
    "            # Compare it to the rest of words\n",
    "            for j in range(index+1, len(line)):\n",
    "                \n",
    "                # if a coincidence is found\n",
    "                if og_word == sorted(list(line[j])):\n",
    "                    \n",
    "                    # Set the line as not valid and exit of this line iteration\n",
    "                    counter -= 1\n",
    "                    stop = True\n",
    "                    break\n",
    "        else:\n",
    "            break\n",
    "\n",
    "print \"total passphrases that are valid --> {}\".format(counter)"
   ]
  }
 ],
 "metadata": {
  "kernelspec": {
   "display_name": "Python 2",
   "language": "python",
   "name": "python2"
  },
  "language_info": {
   "codemirror_mode": {
    "name": "ipython",
    "version": 2
   },
   "file_extension": ".py",
   "mimetype": "text/x-python",
   "name": "python",
   "nbconvert_exporter": "python",
   "pygments_lexer": "ipython2",
   "version": "2.7.14"
  }
 },
 "nbformat": 4,
 "nbformat_minor": 2
}
